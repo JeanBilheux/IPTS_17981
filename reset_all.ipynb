{
 "cells": [
  {
   "cell_type": "markdown",
   "metadata": {},
   "source": [
    "# Table of Contents\n",
    "* [Description](#Description)\n",
    "* [Python Import](#Python-Import)\n",
    "* [Reset](#Reset)\n"
   ]
  },
  {
   "cell_type": "markdown",
   "metadata": {},
   "source": [
    "# Description "
   ]
  },
  {
   "cell_type": "markdown",
   "metadata": {},
   "source": [
    "Run this notebook to reset all the variables you pre-defined in the semi_live_normalization notebook\n",
    "\n",
    "** RUN ALL ** if you want to reset all variables"
   ]
  },
  {
   "cell_type": "markdown",
   "metadata": {},
   "source": [
    "# Python Import"
   ]
  },
  {
   "cell_type": "code",
   "execution_count": 1,
   "metadata": {
    "collapsed": true
   },
   "outputs": [],
   "source": [
    "import config_handler"
   ]
  },
  {
   "cell_type": "markdown",
   "metadata": {},
   "source": [
    "# Reset"
   ]
  },
  {
   "cell_type": "code",
   "execution_count": 3,
   "metadata": {
    "collapsed": false
   },
   "outputs": [],
   "source": [
    "config_handler.save_config(key='default_folder', value='./')\n",
    "config_handler.save_config(key='ob_folder', value='./')\n",
    "config_handler.save_config(key='data_folder', value='./')\n",
    "config_handler.save_config(key='output_folder', value='./')\n",
    "\n",
    "config_handler.save_config(key='norm_min_counts', value='')\n",
    "config_handler.save_config(key='norm_max_counts', vlaue='')\n",
    "\n",
    "config_handler.save_config(key='norm_zoom_left', value='')\n",
    "config_handler.save_config(key='norm_zoom_right', value='')\n",
    "config_handler.save_config(key='norm_zoom_top', value='')\n",
    "config_handler.save_config(key='norm_zoom_bottom', value='')\n",
    "\n",
    "config_handler.save_config(key='norm_roi_left', value='')\n",
    "config_handler.save_config(key='norm_roi_right', value='')\n",
    "config_handler.save_config(key='norm_roi_top', value='')\n",
    "config_handler.save_config(key='norm_roi_bottom', value='')\n",
    "config_handler.save_config(key='integration_direction', value='h')"
   ]
  },
  {
   "cell_type": "code",
   "execution_count": null,
   "metadata": {
    "collapsed": true
   },
   "outputs": [],
   "source": []
  }
 ],
 "metadata": {
  "anaconda-cloud": {},
  "kernelspec": {
   "display_name": "Python [conda env:py35]",
   "language": "python",
   "name": "conda-env-py35-py"
  },
  "language_info": {
   "codemirror_mode": {
    "name": "ipython",
    "version": 3
   },
   "file_extension": ".py",
   "mimetype": "text/x-python",
   "name": "python",
   "nbconvert_exporter": "python",
   "pygments_lexer": "ipython3",
   "version": "3.5.2"
  }
 },
 "nbformat": 4,
 "nbformat_minor": 0
}
